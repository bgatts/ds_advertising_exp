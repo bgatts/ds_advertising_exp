{
 "cells": [
  {
   "cell_type": "code",
   "execution_count": 25,
   "metadata": {},
   "outputs": [],
   "source": [
    "import pandas as pd\n",
    "import matplotlib.pyplot as plt\n",
    "import seaborn as sb\n",
    "import numpy as np"
   ]
  },
  {
   "cell_type": "code",
   "execution_count": 9,
   "metadata": {},
   "outputs": [],
   "source": [
    "df = pd.read_csv(\"cleaned_data.csv\", sep=r'\\s*,\\s*',header=0, engine='python')"
   ]
  },
  {
   "cell_type": "code",
   "execution_count": 10,
   "metadata": {},
   "outputs": [
    {
     "data": {
      "text/html": [
       "<div>\n",
       "<style scoped>\n",
       "    .dataframe tbody tr th:only-of-type {\n",
       "        vertical-align: middle;\n",
       "    }\n",
       "\n",
       "    .dataframe tbody tr th {\n",
       "        vertical-align: top;\n",
       "    }\n",
       "\n",
       "    .dataframe thead th {\n",
       "        text-align: right;\n",
       "    }\n",
       "</style>\n",
       "<table border=\"1\" class=\"dataframe\">\n",
       "  <thead>\n",
       "    <tr style=\"text-align: right;\">\n",
       "      <th></th>\n",
       "      <th>Unnamed: 0</th>\n",
       "      <th>rank</th>\n",
       "      <th>address</th>\n",
       "      <th>website</th>\n",
       "      <th>url Length</th>\n",
       "    </tr>\n",
       "  </thead>\n",
       "  <tbody>\n",
       "    <tr>\n",
       "      <th>0</th>\n",
       "      <td>0</td>\n",
       "      <td>0</td>\n",
       "      <td>NJ</td>\n",
       "      <td>['www.jnj.com']</td>\n",
       "      <td>15</td>\n",
       "    </tr>\n",
       "    <tr>\n",
       "      <th>1</th>\n",
       "      <td>1</td>\n",
       "      <td>1</td>\n",
       "      <td>VA</td>\n",
       "      <td>['www.nestleusa.com']</td>\n",
       "      <td>21</td>\n",
       "    </tr>\n",
       "    <tr>\n",
       "      <th>2</th>\n",
       "      <td>2</td>\n",
       "      <td>2</td>\n",
       "      <td>NE</td>\n",
       "      <td>['www.berkshirehathaway.com']</td>\n",
       "      <td>29</td>\n",
       "    </tr>\n",
       "    <tr>\n",
       "      <th>3</th>\n",
       "      <td>3</td>\n",
       "      <td>3</td>\n",
       "      <td>VA</td>\n",
       "      <td>['www.nestle.com']</td>\n",
       "      <td>18</td>\n",
       "    </tr>\n",
       "    <tr>\n",
       "      <th>4</th>\n",
       "      <td>4</td>\n",
       "      <td>4</td>\n",
       "      <td>NY</td>\n",
       "      <td>['www.lorealusa.com']</td>\n",
       "      <td>21</td>\n",
       "    </tr>\n",
       "    <tr>\n",
       "      <th>...</th>\n",
       "      <td>...</td>\n",
       "      <td>...</td>\n",
       "      <td>...</td>\n",
       "      <td>...</td>\n",
       "      <td>...</td>\n",
       "    </tr>\n",
       "    <tr>\n",
       "      <th>330</th>\n",
       "      <td>330</td>\n",
       "      <td>330</td>\n",
       "      <td>NJ</td>\n",
       "      <td>['www.valeant.com']</td>\n",
       "      <td>19</td>\n",
       "    </tr>\n",
       "    <tr>\n",
       "      <th>331</th>\n",
       "      <td>331</td>\n",
       "      <td>331</td>\n",
       "      <td>MN</td>\n",
       "      <td>['www.hormel.com']</td>\n",
       "      <td>18</td>\n",
       "    </tr>\n",
       "    <tr>\n",
       "      <th>332</th>\n",
       "      <td>332</td>\n",
       "      <td>332</td>\n",
       "      <td>TX</td>\n",
       "      <td>['www.fritolay.com']</td>\n",
       "      <td>20</td>\n",
       "    </tr>\n",
       "    <tr>\n",
       "      <th>333</th>\n",
       "      <td>333</td>\n",
       "      <td>333</td>\n",
       "      <td>OH</td>\n",
       "      <td>['www.bigheartpet.com/']</td>\n",
       "      <td>24</td>\n",
       "    </tr>\n",
       "    <tr>\n",
       "      <th>334</th>\n",
       "      <td>334</td>\n",
       "      <td>334</td>\n",
       "      <td>MA</td>\n",
       "      <td>['www.showcasecinemas.com/']</td>\n",
       "      <td>28</td>\n",
       "    </tr>\n",
       "  </tbody>\n",
       "</table>\n",
       "<p>335 rows × 5 columns</p>\n",
       "</div>"
      ],
      "text/plain": [
       "     Unnamed: 0  rank address                        website  url Length\n",
       "0             0     0      NJ                ['www.jnj.com']          15\n",
       "1             1     1      VA          ['www.nestleusa.com']          21\n",
       "2             2     2      NE  ['www.berkshirehathaway.com']          29\n",
       "3             3     3      VA             ['www.nestle.com']          18\n",
       "4             4     4      NY          ['www.lorealusa.com']          21\n",
       "..          ...   ...     ...                            ...         ...\n",
       "330         330   330      NJ            ['www.valeant.com']          19\n",
       "331         331   331      MN             ['www.hormel.com']          18\n",
       "332         332   332      TX           ['www.fritolay.com']          20\n",
       "333         333   333      OH       ['www.bigheartpet.com/']          24\n",
       "334         334   334      MA   ['www.showcasecinemas.com/']          28\n",
       "\n",
       "[335 rows x 5 columns]"
      ]
     },
     "execution_count": 10,
     "metadata": {},
     "output_type": "execute_result"
    }
   ],
   "source": [
    "df"
   ]
  },
  {
   "cell_type": "code",
   "execution_count": 11,
   "metadata": {},
   "outputs": [
    {
     "data": {
      "text/html": [
       "<div>\n",
       "<style scoped>\n",
       "    .dataframe tbody tr th:only-of-type {\n",
       "        vertical-align: middle;\n",
       "    }\n",
       "\n",
       "    .dataframe tbody tr th {\n",
       "        vertical-align: top;\n",
       "    }\n",
       "\n",
       "    .dataframe thead th {\n",
       "        text-align: right;\n",
       "    }\n",
       "</style>\n",
       "<table border=\"1\" class=\"dataframe\">\n",
       "  <thead>\n",
       "    <tr style=\"text-align: right;\">\n",
       "      <th></th>\n",
       "      <th>Unnamed: 0</th>\n",
       "      <th>rank</th>\n",
       "      <th>url Length</th>\n",
       "    </tr>\n",
       "  </thead>\n",
       "  <tbody>\n",
       "    <tr>\n",
       "      <th>count</th>\n",
       "      <td>335.0000</td>\n",
       "      <td>335.0000</td>\n",
       "      <td>335.000000</td>\n",
       "    </tr>\n",
       "    <tr>\n",
       "      <th>mean</th>\n",
       "      <td>167.0000</td>\n",
       "      <td>167.0000</td>\n",
       "      <td>21.650746</td>\n",
       "    </tr>\n",
       "    <tr>\n",
       "      <th>std</th>\n",
       "      <td>96.8504</td>\n",
       "      <td>96.8504</td>\n",
       "      <td>5.509963</td>\n",
       "    </tr>\n",
       "    <tr>\n",
       "      <th>min</th>\n",
       "      <td>0.0000</td>\n",
       "      <td>0.0000</td>\n",
       "      <td>14.000000</td>\n",
       "    </tr>\n",
       "    <tr>\n",
       "      <th>25%</th>\n",
       "      <td>83.5000</td>\n",
       "      <td>83.5000</td>\n",
       "      <td>18.000000</td>\n",
       "    </tr>\n",
       "    <tr>\n",
       "      <th>50%</th>\n",
       "      <td>167.0000</td>\n",
       "      <td>167.0000</td>\n",
       "      <td>20.000000</td>\n",
       "    </tr>\n",
       "    <tr>\n",
       "      <th>75%</th>\n",
       "      <td>250.5000</td>\n",
       "      <td>250.5000</td>\n",
       "      <td>24.000000</td>\n",
       "    </tr>\n",
       "    <tr>\n",
       "      <th>max</th>\n",
       "      <td>334.0000</td>\n",
       "      <td>334.0000</td>\n",
       "      <td>63.000000</td>\n",
       "    </tr>\n",
       "  </tbody>\n",
       "</table>\n",
       "</div>"
      ],
      "text/plain": [
       "       Unnamed: 0      rank  url Length\n",
       "count    335.0000  335.0000  335.000000\n",
       "mean     167.0000  167.0000   21.650746\n",
       "std       96.8504   96.8504    5.509963\n",
       "min        0.0000    0.0000   14.000000\n",
       "25%       83.5000   83.5000   18.000000\n",
       "50%      167.0000  167.0000   20.000000\n",
       "75%      250.5000  250.5000   24.000000\n",
       "max      334.0000  334.0000   63.000000"
      ]
     },
     "execution_count": 11,
     "metadata": {},
     "output_type": "execute_result"
    }
   ],
   "source": [
    "df.describe()"
   ]
  },
  {
   "cell_type": "code",
   "execution_count": 16,
   "metadata": {},
   "outputs": [
    {
     "data": {
      "text/plain": [
       "<AxesSubplot:>"
      ]
     },
     "execution_count": 16,
     "metadata": {},
     "output_type": "execute_result"
    },
    {
     "data": {
      "image/png": "[encoded data removed]",
      "text/plain": [
       "<Figure size 432x288 with 1 Axes>"
      ]
     },
     "metadata": {
      "needs_background": "light"
     },
     "output_type": "display_data"
    }
   ],
   "source": [
    "df['url Length'].hist()"
   ]
  },
  {
   "cell_type": "code",
   "execution_count": 18,
   "metadata": {},
   "outputs": [
    {
     "data": {
      "text/plain": [
       "<AxesSubplot:>"
      ]
     },
     "execution_count": 18,
     "metadata": {},
     "output_type": "execute_result"
    },
    {
     "data": {
      "image/png": "[encoded data removed]",
      "text/plain": [
       "<Figure size 432x288 with 1 Axes>"
      ]
     },
     "metadata": {
      "needs_background": "light"
     },
     "output_type": "display_data"
    }
   ],
   "source": [
    " df.boxplot(column = ['url Length'])"
   ]
  },
  {
   "cell_type": "code",
   "execution_count": 68,
   "metadata": {},
   "outputs": [
    {
     "data": {
      "text/plain": [
       "([<matplotlib.axis.XTick at 0x7fd9a86e2d00>,\n",
       "  <matplotlib.axis.XTick at 0x7fd9a86e2be0>,\n",
       "  <matplotlib.axis.XTick at 0x7fd9c98fef40>,\n",
       "  <matplotlib.axis.XTick at 0x7fd9c92277f0>,\n",
       "  <matplotlib.axis.XTick at 0x7fd9c92276d0>,\n",
       "  <matplotlib.axis.XTick at 0x7fd9c9227c10>,\n",
       "  <matplotlib.axis.XTick at 0x7fd988129e50>,\n",
       "  <matplotlib.axis.XTick at 0x7fd988129040>,\n",
       "  <matplotlib.axis.XTick at 0x7fd988129b50>,\n",
       "  <matplotlib.axis.XTick at 0x7fd988129c40>,\n",
       "  <matplotlib.axis.XTick at 0x7fd9c9227f10>,\n",
       "  <matplotlib.axis.XTick at 0x7fd9a87a82b0>,\n",
       "  <matplotlib.axis.XTick at 0x7fd9a87a8eb0>,\n",
       "  <matplotlib.axis.XTick at 0x7fd9a87a8340>,\n",
       "  <matplotlib.axis.XTick at 0x7fd9c96b66a0>,\n",
       "  <matplotlib.axis.XTick at 0x7fd9c96b65e0>,\n",
       "  <matplotlib.axis.XTick at 0x7fd9c96b69a0>,\n",
       "  <matplotlib.axis.XTick at 0x7fd9c96ad130>,\n",
       "  <matplotlib.axis.XTick at 0x7fd9c96b68e0>,\n",
       "  <matplotlib.axis.XTick at 0x7fd9a87a86a0>,\n",
       "  <matplotlib.axis.XTick at 0x7fd988129d90>,\n",
       "  <matplotlib.axis.XTick at 0x7fd9c96ade80>,\n",
       "  <matplotlib.axis.XTick at 0x7fd9c96ad070>,\n",
       "  <matplotlib.axis.XTick at 0x7fd9c94ad8e0>,\n",
       "  <matplotlib.axis.XTick at 0x7fd9c94ad520>,\n",
       "  <matplotlib.axis.XTick at 0x7fd9c96a5640>,\n",
       "  <matplotlib.axis.XTick at 0x7fd9c96a52e0>,\n",
       "  <matplotlib.axis.XTick at 0x7fd9c94adac0>,\n",
       "  <matplotlib.axis.XTick at 0x7fd9c96adb20>,\n",
       "  <matplotlib.axis.XTick at 0x7fd9c96a5cd0>,\n",
       "  <matplotlib.axis.XTick at 0x7fd9c96a5fd0>,\n",
       "  <matplotlib.axis.XTick at 0x7fd9c919bcd0>,\n",
       "  <matplotlib.axis.XTick at 0x7fd9c919b160>,\n",
       "  <matplotlib.axis.XTick at 0x7fd9c919b880>,\n",
       "  <matplotlib.axis.XTick at 0x7fd9a8753dc0>,\n",
       "  <matplotlib.axis.XTick at 0x7fd9881535e0>,\n",
       "  <matplotlib.axis.XTick at 0x7fd9c919bd90>,\n",
       "  <matplotlib.axis.XTick at 0x7fd9a874aca0>,\n",
       "  <matplotlib.axis.XTick at 0x7fd9c96a5c40>,\n",
       "  <matplotlib.axis.XTick at 0x7fd9881299d0>,\n",
       "  <matplotlib.axis.XTick at 0x7fd988153610>,\n",
       "  <matplotlib.axis.XTick at 0x7fd988153fa0>],\n",
       " [Text(0, 0, 'NY'),\n",
       "  Text(1, 0, 'NJ'),\n",
       "  Text(2, 0, 'IL'),\n",
       "  Text(3, 0, 'CA'),\n",
       "  Text(4, 0, 'FL'),\n",
       "  Text(5, 0, 'TX'),\n",
       "  Text(6, 0, 'OH'),\n",
       "  Text(7, 0, 'VA'),\n",
       "  Text(8, 0, 'MI'),\n",
       "  Text(9, 0, 'PA'),\n",
       "  Text(10, 0, 'MN'),\n",
       "  Text(11, 0, 'IN'),\n",
       "  Text(12, 0, 'MA'),\n",
       "  Text(13, 0, 'CT'),\n",
       "  Text(14, 0, 'MD'),\n",
       "  Text(15, 0, 'WA'),\n",
       "  Text(16, 0, 'WI'),\n",
       "  Text(17, 0, 'AR'),\n",
       "  Text(18, 0, 'NE'),\n",
       "  Text(19, 0, 'NC'),\n",
       "  Text(20, 0, 'FR'),\n",
       "  Text(21, 0, 'UK'),\n",
       "  Text(22, 0, 'IT'),\n",
       "  Text(23, 0, 'RI'),\n",
       "  Text(24, 0, 'MO'),\n",
       "  Text(25, 0, 'ON'),\n",
       "  Text(26, 0, 'DE'),\n",
       "  Text(27, 0, 'IA'),\n",
       "  Text(28, 0, 'CH'),\n",
       "  Text(29, 0, 'CO'),\n",
       "  Text(30, 0, 'NZ'),\n",
       "  Text(31, 0, 'GA'),\n",
       "  Text(32, 0, 'NM'),\n",
       "  Text(33, 0, 'US'),\n",
       "  Text(34, 0, 'OR'),\n",
       "  Text(35, 0, 'ZA'),\n",
       "  Text(36, 0, 'NL'),\n",
       "  Text(37, 0, 'TN'),\n",
       "  Text(38, 0, 'JP'),\n",
       "  Text(39, 0, 'NH'),\n",
       "  Text(40, 0, 'DC'),\n",
       "  Text(41, 0, 'MX')])"
      ]
     },
     "execution_count": 68,
     "metadata": {},
     "output_type": "execute_result"
    },
    {
     "data": {
      "image/png": "[encoded data removed]",
      "text/plain": [
       "<Figure size 1200x800 with 1 Axes>"
      ]
     },
     "metadata": {},
     "output_type": "display_data"
    }
   ],
   "source": [
    "state_count = df.address.value_counts()\n",
    "state_count_dict = dict(state_count)\n",
    "state_count_dict\n",
    "\n",
    "fig=plt.figure(figsize=(12,8), dpi= 100, facecolor='w', edgecolor='k')\n",
    "\n",
    "\n",
    "plt.bar(range(len(state_count_dict)),state_count_dict.values(),width = 2)\n",
    "plt.xlabel('State')\n",
    "plt.ylabel('Number of Corperations')\n",
    "\n",
    "plt.xticks(range(len(state_count_dict)), state_count_dict.keys(), size='small')\n",
    "\n"
   ]
  },
  {
   "cell_type": "code",
   "execution_count": 58,
   "metadata": {},
   "outputs": [
    {
     "data": {
      "text/html": [
       "<div>\n",
       "<style scoped>\n",
       "    .dataframe tbody tr th:only-of-type {\n",
       "        vertical-align: middle;\n",
       "    }\n",
       "\n",
       "    .dataframe tbody tr th {\n",
       "        vertical-align: top;\n",
       "    }\n",
       "\n",
       "    .dataframe thead th {\n",
       "        text-align: right;\n",
       "    }\n",
       "</style>\n",
       "<table border=\"1\" class=\"dataframe\">\n",
       "  <thead>\n",
       "    <tr style=\"text-align: right;\">\n",
       "      <th></th>\n",
       "      <th>url Length</th>\n",
       "      <th>rank</th>\n",
       "    </tr>\n",
       "  </thead>\n",
       "  <tbody>\n",
       "    <tr>\n",
       "      <th>url Length</th>\n",
       "      <td>1.000000</td>\n",
       "      <td>0.093202</td>\n",
       "    </tr>\n",
       "    <tr>\n",
       "      <th>rank</th>\n",
       "      <td>0.093202</td>\n",
       "      <td>1.000000</td>\n",
       "    </tr>\n",
       "  </tbody>\n",
       "</table>\n",
       "</div>"
      ],
      "text/plain": [
       "            url Length      rank\n",
       "url Length    1.000000  0.093202\n",
       "rank          0.093202  1.000000"
      ]
     },
     "execution_count": 58,
     "metadata": {},
     "output_type": "execute_result"
    }
   ],
   "source": [
    "df[['url Length','rank']].corr()"
   ]
  },
  {
   "cell_type": "code",
   "execution_count": 70,
   "metadata": {},
   "outputs": [
    {
     "data": {
      "text/plain": [
       "<AxesSubplot:>"
      ]
     },
     "execution_count": 70,
     "metadata": {},
     "output_type": "execute_result"
    },
    {
     "data": {
      "image/png": "[encoded data removed]",
      "text/plain": [
       "<Figure size 432x288 with 2 Axes>"
      ]
     },
     "metadata": {
      "needs_background": "light"
     },
     "output_type": "display_data"
    }
   ],
   "source": [
    "sb.heatmap(df[['url Length','rank']].corr(),vmax = .3, center=0, square = True, linewidths=.5, cbar_kws = {'shrink':.5})"
   ]
  },
  {
   "cell_type": "code",
   "execution_count": 77,
   "metadata": {},
   "outputs": [
    {
     "data": {
      "text/html": [
       "<div>\n",
       "<style scoped>\n",
       "    .dataframe tbody tr th:only-of-type {\n",
       "        vertical-align: middle;\n",
       "    }\n",
       "\n",
       "    .dataframe tbody tr th {\n",
       "        vertical-align: top;\n",
       "    }\n",
       "\n",
       "    .dataframe thead th {\n",
       "        text-align: right;\n",
       "    }\n",
       "</style>\n",
       "<table border=\"1\" class=\"dataframe\">\n",
       "  <thead>\n",
       "    <tr style=\"text-align: right;\">\n",
       "      <th></th>\n",
       "      <th></th>\n",
       "      <th>url Length</th>\n",
       "    </tr>\n",
       "    <tr>\n",
       "      <th>rank</th>\n",
       "      <th>address</th>\n",
       "      <th></th>\n",
       "    </tr>\n",
       "  </thead>\n",
       "  <tbody>\n",
       "    <tr>\n",
       "      <th>0</th>\n",
       "      <th>NJ</th>\n",
       "      <td>15</td>\n",
       "    </tr>\n",
       "    <tr>\n",
       "      <th>1</th>\n",
       "      <th>VA</th>\n",
       "      <td>21</td>\n",
       "    </tr>\n",
       "    <tr>\n",
       "      <th>2</th>\n",
       "      <th>NE</th>\n",
       "      <td>29</td>\n",
       "    </tr>\n",
       "    <tr>\n",
       "      <th>3</th>\n",
       "      <th>VA</th>\n",
       "      <td>18</td>\n",
       "    </tr>\n",
       "    <tr>\n",
       "      <th>4</th>\n",
       "      <th>NY</th>\n",
       "      <td>21</td>\n",
       "    </tr>\n",
       "    <tr>\n",
       "      <th>...</th>\n",
       "      <th>...</th>\n",
       "      <td>...</td>\n",
       "    </tr>\n",
       "    <tr>\n",
       "      <th>330</th>\n",
       "      <th>NJ</th>\n",
       "      <td>19</td>\n",
       "    </tr>\n",
       "    <tr>\n",
       "      <th>331</th>\n",
       "      <th>MN</th>\n",
       "      <td>18</td>\n",
       "    </tr>\n",
       "    <tr>\n",
       "      <th>332</th>\n",
       "      <th>TX</th>\n",
       "      <td>20</td>\n",
       "    </tr>\n",
       "    <tr>\n",
       "      <th>333</th>\n",
       "      <th>OH</th>\n",
       "      <td>24</td>\n",
       "    </tr>\n",
       "    <tr>\n",
       "      <th>334</th>\n",
       "      <th>MA</th>\n",
       "      <td>28</td>\n",
       "    </tr>\n",
       "  </tbody>\n",
       "</table>\n",
       "<p>335 rows × 1 columns</p>\n",
       "</div>"
      ],
      "text/plain": [
       "              url Length\n",
       "rank address            \n",
       "0    NJ               15\n",
       "1    VA               21\n",
       "2    NE               29\n",
       "3    VA               18\n",
       "4    NY               21\n",
       "...                  ...\n",
       "330  NJ               19\n",
       "331  MN               18\n",
       "332  TX               20\n",
       "333  OH               24\n",
       "334  MA               28\n",
       "\n",
       "[335 rows x 1 columns]"
      ]
     },
     "execution_count": 77,
     "metadata": {},
     "output_type": "execute_result"
    }
   ],
   "source": [
    "pd.pivot_table(df, index=['rank','address'], values = 'url Length')"
   ]
  },
  {
   "cell_type": "code",
   "execution_count": null,
   "metadata": {},
   "outputs": [],
   "source": []
  }
 ],
 "metadata": {
  "kernelspec": {
   "display_name": "Python 3",
   "language": "python",
   "name": "python3"
  },
  "language_info": {
   "codemirror_mode": {
    "name": "ipython",
    "version": 3
   },
   "file_extension": ".py",
   "mimetype": "text/x-python",
   "name": "python",
   "nbconvert_exporter": "python",
   "pygments_lexer": "ipython3",
   "version": "3.8.5"
  }
 },
 "nbformat": 4,
 "nbformat_minor": 4
}
